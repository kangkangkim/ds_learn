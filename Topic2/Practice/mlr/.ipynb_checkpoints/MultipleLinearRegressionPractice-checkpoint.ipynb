{
 "cells": [
  {
   "cell_type": "markdown",
   "metadata": {},
   "source": [
    "# This practice will cover learning points in class2\n",
    "### 1 - Fit MLR model in python with sklearn and statesmodel packages\n",
    "### 2 - Model Selection\n",
    "### 3 - Weighted regression\n",
    "### 4 - Regularization, L1 and L2"
   ]
  },
  {
   "cell_type": "markdown",
   "metadata": {},
   "source": [
    "Import required Python packages."
   ]
  },
  {
   "cell_type": "code",
   "execution_count": 3,
   "metadata": {},
   "outputs": [
    {
     "name": "stdout",
     "output_type": "stream",
     "text": [
      "Looking in indexes: https://pypi.douban.com/simple\n",
      "Collecting dmba\n",
      "  Downloading https://pypi.doubanio.com/packages/db/d8/98089bd612134ce721b18f8ea9466555ccb8055d7c49e617a0ef4152010c/dmba-0.1.0-py3-none-any.whl (11.8 MB)\n",
      "\u001b[2K     \u001b[90m━━━━━━━━━━━━━━━━━━━━━━━━━━━━━━━━━━━━━━━━\u001b[0m \u001b[32m11.8/11.8 MB\u001b[0m \u001b[31m1.0 MB/s\u001b[0m eta \u001b[36m0:00:00\u001b[0m00:01\u001b[0m00:01\u001b[0mm\n",
      "\u001b[?25hInstalling collected packages: dmba\n",
      "Successfully installed dmba-0.1.0\n",
      "\u001b[33mWARNING: There was an error checking the latest version of pip.\u001b[0m\u001b[33m\n",
      "\u001b[0m"
     ]
    }
   ],
   "source": [
    "!pip install dmba"
   ]
  },
  {
   "cell_type": "code",
   "execution_count": 1,
   "metadata": {},
   "outputs": [
    {
     "name": "stderr",
     "output_type": "stream",
     "text": [
      "/opt/anaconda3/lib/python3.9/site-packages/scipy/__init__.py:146: UserWarning: A NumPy version >=1.16.5 and <1.23.0 is required for this version of SciPy (detected version 1.23.0\n",
      "  warnings.warn(f\"A NumPy version >={np_minversion} and <{np_maxversion}\"\n",
      "/opt/anaconda3/lib/python3.9/site-packages/statsmodels/tsa/base/tsa_model.py:7: FutureWarning: pandas.Int64Index is deprecated and will be removed from pandas in a future version. Use pandas.Index with the appropriate dtype instead.\n",
      "  from pandas import (to_datetime, Int64Index, DatetimeIndex, Period,\n",
      "/opt/anaconda3/lib/python3.9/site-packages/statsmodels/tsa/base/tsa_model.py:7: FutureWarning: pandas.Float64Index is deprecated and will be removed from pandas in a future version. Use pandas.Index with the appropriate dtype instead.\n",
      "  from pandas import (to_datetime, Int64Index, DatetimeIndex, Period,\n"
     ]
    },
    {
     "name": "stdout",
     "output_type": "stream",
     "text": [
      "no display found. Using non-interactive Agg backend\n"
     ]
    }
   ],
   "source": [
    "from pathlib import Path\n",
    "import os\n",
    "import pandas as pd\n",
    "import numpy as np\n",
    "\n",
    "from sklearn.model_selection import train_test_split\n",
    "\n",
    "from sklearn.metrics import r2_score, mean_squared_error\n",
    "from sklearn.linear_model import LinearRegression, RidgeCV, LassoCV, ElasticNetCV\n",
    "\n",
    "import statsmodels.api as sm\n",
    "\n",
    "import seaborn as sns\n",
    "import matplotlib.pyplot as plt\n",
    "\n",
    "from dmba import stepwise_selection\n",
    "from dmba import AIC_score\n",
    "\n",
    "%matplotlib inline"
   ]
  },
  {
   "cell_type": "markdown",
   "metadata": {},
   "source": [
    "Define paths to data sets. If you don't keep your data in the same directory as the code, adapt the path names."
   ]
  },
  {
   "cell_type": "code",
   "execution_count": 2,
   "metadata": {},
   "outputs": [],
   "source": [
    "DATA = Path('.').resolve().parents[1] / 'Practice/mlr'\n",
    "\n",
    "HOUSE_CSV = DATA / 'house_sales.csv'"
   ]
  },
  {
   "cell_type": "code",
   "execution_count": 3,
   "metadata": {},
   "outputs": [],
   "source": [
    "# print(DATA)\n",
    "# print(HOUSE_CSV)"
   ]
  },
  {
   "cell_type": "markdown",
   "metadata": {},
   "source": [
    "#### Data read and train-test split"
   ]
  },
  {
   "cell_type": "code",
   "execution_count": 4,
   "metadata": {},
   "outputs": [
    {
     "name": "stdout",
     "output_type": "stream",
     "text": [
      "      DocumentDate  SalePrice  PropertyID   PropertyType          ym  zhvi_px  \\\n",
      "8089    2007-01-26     450000  2593200150  Single Family  2007-01-01   425600   \n",
      "25665   2007-12-27    1049950  9348700280  Single Family  2007-12-01   425200   \n",
      "23279   2006-12-26     265800  8562900345  Single Family  2006-12-01   423400   \n",
      "270     2007-01-16     299950   109210370  Single Family  2007-01-01   425600   \n",
      "9644    2006-08-23     652000  2966800035  Single Family  2006-08-01   411100   \n",
      "\n",
      "       zhvi_idx  AdjSalePrice  NbrLivingUnits  SqFtLot  ...  Bathrooms  \\\n",
      "8089   0.977941      460150.0               1     8563  ...       2.50   \n",
      "25665  0.977022     1074643.0               1     6313  ...       3.25   \n",
      "23279  0.972886      273208.0               1    10376  ...       2.50   \n",
      "270    0.977941      306716.0               1     6930  ...       2.50   \n",
      "9644   0.944623      690222.0               1     9943  ...       2.50   \n",
      "\n",
      "       Bedrooms  BldgGrade  YrBuilt  YrRenovated  TrafficNoise  LandVal  \\\n",
      "8089          4          7     1962            0             0   148000   \n",
      "25665         4         10     2007            0             0   242000   \n",
      "23279         4          9     2007            0             0   246000   \n",
      "270           3          7     1981            0             0    66000   \n",
      "9644          3          9     1992            0             0   198000   \n",
      "\n",
      "       ImpsVal  ZipCode  NewConstruction  \n",
      "8089    204000    98155            False  \n",
      "25665   679000    98052             True  \n",
      "23279   509000    98074            False  \n",
      "270     206000    98023            False  \n",
      "9644    485000    98166            False  \n",
      "\n",
      "[5 rows x 22 columns]\n",
      "(18149, 22)\n",
      "      DocumentDate  SalePrice  PropertyID   PropertyType          ym  zhvi_px  \\\n",
      "4311    2007-06-06     752000  1522600080  Single Family  2007-06-01   433200   \n",
      "10605   2006-12-27     385000  3293800260  Single Family  2006-12-01   423400   \n",
      "25438   2006-05-31    1020000  9279200231  Single Family  2006-05-01   400600   \n",
      "14081   2007-08-01     359950  4136900070  Single Family  2007-08-01   434600   \n",
      "25260   2011-10-11     250000  9265800290  Single Family  2011-10-01   312000   \n",
      "\n",
      "       zhvi_idx  AdjSalePrice  NbrLivingUnits  SqFtLot  ...  Bathrooms  \\\n",
      "4311   0.995404      755472.0               1    26138  ...       2.75   \n",
      "10605  0.972886      395730.0               1     7861  ...       1.50   \n",
      "25438  0.920496     1108098.0               1     6221  ...       1.75   \n",
      "14081  0.998621      360447.0               1     7133  ...       2.25   \n",
      "25260  0.716912      348718.0               1     7380  ...       2.75   \n",
      "\n",
      "       Bedrooms  BldgGrade  YrBuilt  YrRenovated  TrafficNoise  LandVal  \\\n",
      "4311          3          9     1986            0             0   457000   \n",
      "10605         3          8     1961            0             0   153000   \n",
      "25438         3          8     1954         2006             0   307000   \n",
      "14081         4          8     1998            0             0    83000   \n",
      "25260         4          8     1992            0             0   110000   \n",
      "\n",
      "       ImpsVal  ZipCode  NewConstruction  \n",
      "4311    360000    98052            False  \n",
      "10605   227000    98133            False  \n",
      "25438   467000    98116            False  \n",
      "14081   189000    98092            False  \n",
      "25260   230000    98031            False  \n",
      "\n",
      "[5 rows x 22 columns]\n",
      "(4538, 22)\n"
     ]
    }
   ],
   "source": [
    "houseall = pd.read_csv(HOUSE_CSV, sep='\\t')\n",
    "\n",
    "house, house_test = train_test_split(houseall, test_size=0.2)\n",
    "\n",
    "print(house.head())\n",
    "print(house.shape)\n",
    "\n",
    "print(house_test.head())\n",
    "print(house_test.shape)"
   ]
  },
  {
   "cell_type": "markdown",
   "metadata": {},
   "source": [
    "We can use the `LinearRegression` model from _scikit-learn_."
   ]
  },
  {
   "cell_type": "markdown",
   "metadata": {},
   "source": [
    "## 1 - Multiple Linear Regression (SKlearn)"
   ]
  },
  {
   "cell_type": "code",
   "execution_count": 5,
   "metadata": {},
   "outputs": [
    {
     "name": "stdout",
     "output_type": "stream",
     "text": [
      "      DocumentDate  SalePrice  PropertyID   PropertyType          ym  zhvi_px  \\\n",
      "8089    2007-01-26     450000  2593200150  Single Family  2007-01-01   425600   \n",
      "25665   2007-12-27    1049950  9348700280  Single Family  2007-12-01   425200   \n",
      "23279   2006-12-26     265800  8562900345  Single Family  2006-12-01   423400   \n",
      "270     2007-01-16     299950   109210370  Single Family  2007-01-01   425600   \n",
      "9644    2006-08-23     652000  2966800035  Single Family  2006-08-01   411100   \n",
      "\n",
      "       zhvi_idx  AdjSalePrice  NbrLivingUnits  SqFtLot  ...  Bathrooms  \\\n",
      "8089   0.977941      460150.0               1     8563  ...       2.50   \n",
      "25665  0.977022     1074643.0               1     6313  ...       3.25   \n",
      "23279  0.972886      273208.0               1    10376  ...       2.50   \n",
      "270    0.977941      306716.0               1     6930  ...       2.50   \n",
      "9644   0.944623      690222.0               1     9943  ...       2.50   \n",
      "\n",
      "       Bedrooms  BldgGrade  YrBuilt  YrRenovated  TrafficNoise  LandVal  \\\n",
      "8089          4          7     1962            0             0   148000   \n",
      "25665         4         10     2007            0             0   242000   \n",
      "23279         4          9     2007            0             0   246000   \n",
      "270           3          7     1981            0             0    66000   \n",
      "9644          3          9     1992            0             0   198000   \n",
      "\n",
      "       ImpsVal  ZipCode  NewConstruction  \n",
      "8089    204000    98155            False  \n",
      "25665   679000    98052             True  \n",
      "23279   509000    98074            False  \n",
      "270     206000    98023            False  \n",
      "9644    485000    98166            False  \n",
      "\n",
      "[5 rows x 22 columns]\n",
      "Index(['DocumentDate', 'SalePrice', 'PropertyID', 'PropertyType', 'ym',\n",
      "       'zhvi_px', 'zhvi_idx', 'AdjSalePrice', 'NbrLivingUnits', 'SqFtLot',\n",
      "       'SqFtTotLiving', 'SqFtFinBasement', 'Bathrooms', 'Bedrooms',\n",
      "       'BldgGrade', 'YrBuilt', 'YrRenovated', 'TrafficNoise', 'LandVal',\n",
      "       'ImpsVal', 'ZipCode', 'NewConstruction'],\n",
      "      dtype='object')\n"
     ]
    }
   ],
   "source": [
    "print(house.head())\n",
    "print(house.columns)"
   ]
  },
  {
   "cell_type": "code",
   "execution_count": 6,
   "metadata": {},
   "outputs": [
    {
     "name": "stdout",
     "output_type": "stream",
     "text": [
      "       AdjSalePrice  SqFtTotLiving  SqFtLot  Bathrooms  Bedrooms  BldgGrade\n",
      "8089       460150.0           1780     8563       2.50         4          7\n",
      "25665     1074643.0           3600     6313       3.25         4         10\n",
      "23279      273208.0           3070    10376       2.50         4          9\n",
      "270        306716.0           1910     6930       2.50         3          7\n",
      "9644       690222.0           3310     9943       2.50         3          9\n"
     ]
    }
   ],
   "source": [
    "subset = ['AdjSalePrice', 'SqFtTotLiving', 'SqFtLot', 'Bathrooms', \n",
    "          'Bedrooms', 'BldgGrade']\n",
    "\n",
    "print(house[subset].head())"
   ]
  },
  {
   "cell_type": "code",
   "execution_count": 7,
   "metadata": {},
   "outputs": [
    {
     "name": "stdout",
     "output_type": "stream",
     "text": [
      "Intercept: -531986.377\n",
      "Coefficients:\n",
      " SqFtTotLiving: 228.89246751865636\n",
      " SqFtLot: -0.013018446877499201\n",
      " Bathrooms: -22198.230600342635\n",
      " Bedrooms: -44685.118212419264\n",
      " BldgGrade: 106838.05904476989\n"
     ]
    }
   ],
   "source": [
    "predictors = ['SqFtTotLiving', 'SqFtLot', 'Bathrooms', \n",
    "              'Bedrooms', 'BldgGrade']\n",
    "outcome = 'AdjSalePrice'\n",
    "\n",
    "house_lm = LinearRegression()\n",
    "house_lm.fit(house[predictors], house[outcome])\n",
    "\n",
    "print(f'Intercept: {house_lm.intercept_:.3f}')\n",
    "print('Coefficients:')\n",
    "for name, coef in zip(predictors, house_lm.coef_):\n",
    "    print(f' {name}: {coef}')"
   ]
  },
  {
   "cell_type": "markdown",
   "metadata": {},
   "source": [
    "### Assessing the Model with performance KPIs\n",
    "_Scikit-learn_ provides a number of metrics to determine the quality of a model. Here we use the `r2_score` and `RMSE`."
   ]
  },
  {
   "cell_type": "code",
   "execution_count": 8,
   "metadata": {},
   "outputs": [
    {
     "name": "stdout",
     "output_type": "stream",
     "text": [
      "RMSE: 266651\n",
      "r2: 0.5307\n",
      "RMSE_test: 238357\n",
      "r2_test: 0.5841\n"
     ]
    }
   ],
   "source": [
    "fitted = house_lm.predict(house[predictors])\n",
    "RMSE = np.sqrt(mean_squared_error(house[outcome], fitted))\n",
    "r2 = r2_score(house[outcome], fitted)\n",
    "print(f'RMSE: {RMSE:.0f}')\n",
    "print(f'r2: {r2:.4f}')\n",
    "\n",
    "fitted_test = house_lm.predict(house_test[predictors])\n",
    "RMSE_test = np.sqrt(mean_squared_error(house_test[outcome], fitted_test))\n",
    "r2_test = r2_score(house_test[outcome], fitted_test)\n",
    "print(f'RMSE_test: {RMSE_test:.0f}')\n",
    "print(f'r2_test: {r2_test:.4f}')"
   ]
  },
  {
   "cell_type": "markdown",
   "metadata": {},
   "source": [
    "## 1 - Multiple Linear Regression (statsmodels)"
   ]
  },
  {
   "cell_type": "markdown",
   "metadata": {},
   "source": [
    "While _scikit-learn_ provides a variety of different metrics, _statsmodels_ provides a more in-depth analysis of the linear regression model. This package has two different ways of specifying the model, one that is similar to _scikit-learn_ and one that allows specifying _R_-style formulas. Here we use the first approach. As _statsmodels_ doesn't add an intercept automaticaly, we need to add a constant column with value 1 to the predictors. We can use the _pandas_ method assign for this."
   ]
  },
  {
   "cell_type": "code",
   "execution_count": 9,
   "metadata": {},
   "outputs": [
    {
     "name": "stdout",
     "output_type": "stream",
     "text": [
      "                            OLS Regression Results                            \n",
      "==============================================================================\n",
      "Dep. Variable:           AdjSalePrice   R-squared:                       0.531\n",
      "Model:                            OLS   Adj. R-squared:                  0.531\n",
      "Method:                 Least Squares   F-statistic:                     4103.\n",
      "Date:                Tue, 05 Jul 2022   Prob (F-statistic):               0.00\n",
      "Time:                        09:20:28   Log-Likelihood:            -2.5250e+05\n",
      "No. Observations:               18149   AIC:                         5.050e+05\n",
      "Df Residuals:                   18143   BIC:                         5.051e+05\n",
      "Df Model:                           5                                         \n",
      "Covariance Type:            nonrobust                                         \n",
      "=================================================================================\n",
      "                    coef    std err          t      P>|t|      [0.025      0.975]\n",
      "---------------------------------------------------------------------------------\n",
      "SqFtTotLiving   228.8925      4.444     51.504      0.000     220.181     237.603\n",
      "SqFtLot          -0.0130      0.071     -0.182      0.856      -0.153       0.127\n",
      "Bathrooms      -2.22e+04   4129.307     -5.376      0.000   -3.03e+04   -1.41e+04\n",
      "Bedrooms      -4.469e+04   2814.258    -15.878      0.000   -5.02e+04   -3.92e+04\n",
      "BldgGrade      1.068e+05   2727.516     39.170      0.000    1.01e+05    1.12e+05\n",
      "const          -5.32e+05   1.78e+04    -29.938      0.000   -5.67e+05   -4.97e+05\n",
      "==============================================================================\n",
      "Omnibus:                    24615.571   Durbin-Watson:                   2.003\n",
      "Prob(Omnibus):                  0.000   Jarque-Bera (JB):         18589314.487\n",
      "Skew:                           7.350   Prob(JB):                         0.00\n",
      "Kurtosis:                     159.097   Cond. No.                     2.79e+05\n",
      "==============================================================================\n",
      "\n",
      "Notes:\n",
      "[1] Standard Errors assume that the covariance matrix of the errors is correctly specified.\n",
      "[2] The condition number is large, 2.79e+05. This might indicate that there are\n",
      "strong multicollinearity or other numerical problems.\n"
     ]
    }
   ],
   "source": [
    "mlr_sm = sm.OLS(house[outcome], house[predictors].assign(const=1))\n",
    "results = mlr_sm.fit()\n",
    "print(results.summary())"
   ]
  },
  {
   "cell_type": "markdown",
   "metadata": {},
   "source": [
    "### Correlations between predictors"
   ]
  },
  {
   "cell_type": "code",
   "execution_count": 13,
   "metadata": {},
   "outputs": [
    {
     "name": "stdout",
     "output_type": "stream",
     "text": [
      "Correlation Matrix \n",
      "                SqFtTotLiving   SqFtLot  Bathrooms  Bedrooms  BldgGrade\n",
      "SqFtTotLiving       1.000000  0.204800   0.762683  0.596419   0.769670\n",
      "SqFtLot             0.204800  1.000000   0.113862  0.068028   0.156332\n",
      "Bathrooms           0.762683  0.113862   1.000000  0.534784   0.657011\n",
      "Bedrooms            0.596419  0.068028   0.534784  1.000000   0.366704\n",
      "BldgGrade           0.769670  0.156332   0.657011  0.366704   1.000000\n"
     ]
    },
    {
     "data": {
      "image/png": "[encoded data removed]",
      "text/plain": [
       "<Figure size 432x288 with 2 Axes>"
      ]
     },
     "metadata": {
      "needs_background": "light"
     },
     "output_type": "display_data"
    }
   ],
   "source": [
    "corr = house[predictors].corr()\n",
    "print(\"Correlation Matrix \\n {}\".format(corr))\n",
    "\n",
    "ax = sns.heatmap(\n",
    "    corr, \n",
    "    vmin=-1, vmax=1, center=0,\n",
    "    cmap=sns.diverging_palette(20, 220, n=200),\n",
    "    square=True\n",
    ")\n",
    "ax.set_xticklabels(\n",
    "    ax.get_xticklabels(),\n",
    "    rotation=45,\n",
    "    horizontalalignment='right'\n",
    ");"
   ]
  },
  {
   "cell_type": "markdown",
   "metadata": {},
   "source": [
    "## 2 - Model Selection and Stepwise Regression"
   ]
  },
  {
   "cell_type": "code",
   "execution_count": 14,
   "metadata": {},
   "outputs": [
    {
     "name": "stdout",
     "output_type": "stream",
     "text": [
      "       SqFtTotLiving  SqFtLot  Bathrooms  Bedrooms  BldgGrade   PropertyType  \\\n",
      "8089            1780     8563       2.50         4          7  Single Family   \n",
      "25665           3600     6313       3.25         4         10  Single Family   \n",
      "23279           3070    10376       2.50         4          9  Single Family   \n",
      "270             1910     6930       2.50         3          7  Single Family   \n",
      "9644            3310     9943       2.50         3          9  Single Family   \n",
      "\n",
      "       NbrLivingUnits  SqFtFinBasement  YrBuilt  YrRenovated  NewConstruction  \n",
      "8089                1              580     1962            0            False  \n",
      "25665               1                0     2007            0             True  \n",
      "23279               1                0     2007            0            False  \n",
      "270                 1              440     1981            0            False  \n",
      "9644                1             1120     1992            0            False  \n",
      "\n",
      " PropertyType List \n",
      "Single Family    16586\n",
      "Townhouse         1360\n",
      "Multiplex          203\n",
      "Name: PropertyType, dtype: int64\n",
      "\n",
      "Predictors after nominal varibale(s) treatment: (18149, 12) \n",
      "\n",
      "\n",
      "                            OLS Regression Results                            \n",
      "==============================================================================\n",
      "Dep. Variable:           AdjSalePrice   R-squared:                       0.584\n",
      "Model:                            OLS   Adj. R-squared:                  0.584\n",
      "Method:                 Least Squares   F-statistic:                     2123.\n",
      "Date:                Tue, 05 Jul 2022   Prob (F-statistic):               0.00\n",
      "Time:                        10:18:14   Log-Likelihood:            -2.5140e+05\n",
      "No. Observations:               18149   AIC:                         5.028e+05\n",
      "Df Residuals:                   18136   BIC:                         5.029e+05\n",
      "Df Model:                          12                                         \n",
      "Covariance Type:            nonrobust                                         \n",
      "==============================================================================================\n",
      "                                 coef    std err          t      P>|t|      [0.025      0.975]\n",
      "----------------------------------------------------------------------------------------------\n",
      "SqFtTotLiving                198.2548      4.852     40.863      0.000     188.745     207.765\n",
      "SqFtLot                        0.1280      0.068      1.887      0.059      -0.005       0.261\n",
      "Bathrooms                   3.848e+04   4342.576      8.861      0.000       3e+04     4.7e+04\n",
      "Bedrooms                    -4.91e+04   2710.272    -18.117      0.000   -5.44e+04   -4.38e+04\n",
      "BldgGrade                   1.389e+05   2792.235     49.729      0.000    1.33e+05    1.44e+05\n",
      "NbrLivingUnits              4.166e+04   2.08e+04      2.007      0.045     970.534    8.23e+04\n",
      "SqFtFinBasement               11.4473      5.289      2.164      0.030       1.080      21.815\n",
      "YrBuilt                    -3550.3026     88.235    -40.237      0.000   -3723.251   -3377.354\n",
      "YrRenovated                   -3.2934      4.470     -0.737      0.461     -12.055       5.468\n",
      "NewConstruction            -6850.3806   6858.339     -0.999      0.318   -2.03e+04    6592.614\n",
      "PropertyType_Single Family  7.506e+04   3.07e+04      2.443      0.015    1.48e+04    1.35e+05\n",
      "PropertyType_Townhouse      1.437e+05   3.17e+04      4.525      0.000    8.14e+04    2.06e+05\n",
      "const                       6.041e+06   1.78e+05     33.951      0.000    5.69e+06    6.39e+06\n",
      "==============================================================================\n",
      "Omnibus:                    25619.998   Durbin-Watson:                   2.003\n",
      "Prob(Omnibus):                  0.000   Jarque-Bera (JB):         24358723.152\n",
      "Skew:                           7.888   Prob(JB):                         0.00\n",
      "Kurtosis:                     181.781   Cond. No.                     2.94e+06\n",
      "==============================================================================\n",
      "\n",
      "Notes:\n",
      "[1] Standard Errors assume that the covariance matrix of the errors is correctly specified.\n",
      "[2] The condition number is large, 2.94e+06. This might indicate that there are\n",
      "strong multicollinearity or other numerical problems.\n"
     ]
    }
   ],
   "source": [
    "predictors = ['SqFtTotLiving', 'SqFtLot', 'Bathrooms', 'Bedrooms',\n",
    "              'BldgGrade', 'PropertyType', 'NbrLivingUnits',\n",
    "              'SqFtFinBasement', 'YrBuilt', 'YrRenovated', \n",
    "              'NewConstruction']\n",
    "\n",
    "print(house[predictors].head())\n",
    "\n",
    "print(\"\\n PropertyType List \\n{}\".format(house['PropertyType'].value_counts(dropna=False)))\n",
    "\n",
    "X = pd.get_dummies(house[predictors], drop_first=True)\n",
    "X['NewConstruction'] = [1 if nc else 0 for nc in X['NewConstruction']]\n",
    "\n",
    "print(\"\\nPredictors after nominal varibale(s) treatment: {} \\n\\n\".format(X.shape))\n",
    "\n",
    "house_full = sm.OLS(house[outcome], X.assign(const=1))\n",
    "results = house_full.fit()\n",
    "print(results.summary())"
   ]
  },
  {
   "cell_type": "markdown",
   "metadata": {},
   "source": [
    "We can use the `stepwise_selection` method from the _dmba_ package."
   ]
  },
  {
   "cell_type": "code",
   "execution_count": 15,
   "metadata": {},
   "outputs": [
    {
     "name": "stdout",
     "output_type": "stream",
     "text": [
      "Variables: SqFtTotLiving, SqFtLot, Bathrooms, Bedrooms, BldgGrade, NbrLivingUnits, SqFtFinBasement, YrBuilt, YrRenovated, NewConstruction, PropertyType_Single Family, PropertyType_Townhouse\n",
      "Start: score=518734.44, constant\n",
      "Step: score=507038.11, add SqFtTotLiving\n",
      "Step: score=505331.88, add BldgGrade\n",
      "Step: score=503343.84, add YrBuilt\n",
      "Step: score=503028.95, add Bedrooms\n",
      "Step: score=502907.70, add Bathrooms\n",
      "Step: score=502838.46, add PropertyType_Townhouse\n",
      "Step: score=502835.63, add SqFtFinBasement\n",
      "Step: score=502833.60, add SqFtLot\n",
      "Step: score=502833.60, unchanged None\n",
      "\n",
      "Intercept: 6157568.809\n",
      "Coefficients:\n",
      " SqFtTotLiving: 198.12501294168683\n",
      " BldgGrade: 138790.46421030405\n",
      " YrBuilt: -3550.2730339031687\n",
      " Bedrooms: -49068.91213216359\n",
      " Bathrooms: 38282.73006717596\n",
      " PropertyType_Townhouse: 66852.16896347245\n",
      " SqFtFinBasement: 11.905135835124383\n",
      " SqFtLot: 0.13557802885770798\n"
     ]
    }
   ],
   "source": [
    "y = house[outcome]\n",
    "\n",
    "def train_model(variables):\n",
    "    if len(variables) == 0:\n",
    "        return None\n",
    "    model = LinearRegression()\n",
    "    model.fit(X[variables], y)\n",
    "    return model\n",
    "\n",
    "def score_model(model, variables):\n",
    "    if len(variables) == 0:\n",
    "        return AIC_score(y, [y.mean()] * len(y), model, df=1)\n",
    "    return AIC_score(y, model.predict(X[variables]), model)\n",
    "\n",
    "best_model, best_variables = stepwise_selection(X.columns, train_model, score_model, \n",
    "                                                verbose=True)\n",
    "\n",
    "print()\n",
    "print(f'Intercept: {best_model.intercept_:.3f}')\n",
    "print('Coefficients:')\n",
    "for name, coef in zip(best_variables, best_model.coef_):\n",
    "    print(f' {name}: {coef}')"
   ]
  },
  {
   "cell_type": "markdown",
   "metadata": {},
   "source": [
    "## 3 - Weighted regression\n",
    "For the house data recent sale price is more relavent for future prediction, old sale data is less reliable, therefore, we like to emphasis the recent sale data by apply more weight. We will use year the house sale to 2005 as weight.\n",
    "\n",
    "We can calculate the Year from the date column using either a list comprehension or the data frame's `apply` method."
   ]
  },
  {
   "cell_type": "code",
   "execution_count": 16,
   "metadata": {},
   "outputs": [
    {
     "name": "stdout",
     "output_type": "stream",
     "text": [
      "\n",
      "DocumentDate List \n",
      "2006-07-26    49\n",
      "2006-08-24    46\n",
      "2006-06-28    44\n",
      "2006-05-30    44\n",
      "2006-06-19    44\n",
      "              ..\n",
      "2014-02-04     1\n",
      "2014-12-06     1\n",
      "2007-08-19     1\n",
      "2011-03-26     1\n",
      "2014-10-17     1\n",
      "Name: DocumentDate, Length: 2451, dtype: int64\n"
     ]
    }
   ],
   "source": [
    "print(\"\\nDocumentDate List \\n{}\".format(house['DocumentDate'].value_counts(dropna=False)))"
   ]
  },
  {
   "cell_type": "code",
   "execution_count": 17,
   "metadata": {},
   "outputs": [
    {
     "name": "stderr",
     "output_type": "stream",
     "text": [
      "/var/folders/dp/33bksrnd7cl_h5jzchgxr1yr0000gn/T/ipykernel_7773/3229310804.py:1: SettingWithCopyWarning: \n",
      "A value is trying to be set on a copy of a slice from a DataFrame.\n",
      "Try using .loc[row_indexer,col_indexer] = value instead\n",
      "\n",
      "See the caveats in the documentation: https://pandas.pydata.org/pandas-docs/stable/user_guide/indexing.html#returning-a-view-versus-a-copy\n",
      "  house['Year'] = [int(date.split('-')[0]) for date in house.DocumentDate]  #list comprehension\n",
      "/var/folders/dp/33bksrnd7cl_h5jzchgxr1yr0000gn/T/ipykernel_7773/3229310804.py:2: SettingWithCopyWarning: \n",
      "A value is trying to be set on a copy of a slice from a DataFrame.\n",
      "Try using .loc[row_indexer,col_indexer] = value instead\n",
      "\n",
      "See the caveats in the documentation: https://pandas.pydata.org/pandas-docs/stable/user_guide/indexing.html#returning-a-view-versus-a-copy\n",
      "  house['Year'] = house.DocumentDate.apply(lambda d: int(d.split('-')[0]))  # apply()\n",
      "/var/folders/dp/33bksrnd7cl_h5jzchgxr1yr0000gn/T/ipykernel_7773/3229310804.py:3: SettingWithCopyWarning: \n",
      "A value is trying to be set on a copy of a slice from a DataFrame.\n",
      "Try using .loc[row_indexer,col_indexer] = value instead\n",
      "\n",
      "See the caveats in the documentation: https://pandas.pydata.org/pandas-docs/stable/user_guide/indexing.html#returning-a-view-versus-a-copy\n",
      "  house['Weight'] = house.Year - 2005\n"
     ]
    }
   ],
   "source": [
    "house['Year'] = [int(date.split('-')[0]) for date in house.DocumentDate]  #list comprehension\n",
    "house['Year'] = house.DocumentDate.apply(lambda d: int(d.split('-')[0]))  # apply()\n",
    "house['Weight'] = house.Year - 2005"
   ]
  },
  {
   "cell_type": "code",
   "execution_count": 23,
   "metadata": {},
   "outputs": [
    {
     "name": "stderr",
     "output_type": "stream",
     "text": [
      "/var/folders/dp/33bksrnd7cl_h5jzchgxr1yr0000gn/T/ipykernel_7773/463110306.py:7: FutureWarning: The frame.append method is deprecated and will be removed from pandas in a future version. Use pandas.concat instead.\n",
      "  pd.DataFrame({\n"
     ]
    },
    {
     "data": {
      "text/html": [
       "<div>\n",
       "<style scoped>\n",
       "    .dataframe tbody tr th:only-of-type {\n",
       "        vertical-align: middle;\n",
       "    }\n",
       "\n",
       "    .dataframe tbody tr th {\n",
       "        vertical-align: top;\n",
       "    }\n",
       "\n",
       "    .dataframe thead th {\n",
       "        text-align: right;\n",
       "    }\n",
       "</style>\n",
       "<table border=\"1\" class=\"dataframe\">\n",
       "  <thead>\n",
       "    <tr style=\"text-align: right;\">\n",
       "      <th></th>\n",
       "      <th>predictor</th>\n",
       "      <th>house_lm</th>\n",
       "      <th>house_wt</th>\n",
       "    </tr>\n",
       "  </thead>\n",
       "  <tbody>\n",
       "    <tr>\n",
       "      <th>0</th>\n",
       "      <td>SqFtTotLiving</td>\n",
       "      <td>228.892468</td>\n",
       "      <td>248.869046</td>\n",
       "    </tr>\n",
       "    <tr>\n",
       "      <th>1</th>\n",
       "      <td>SqFtLot</td>\n",
       "      <td>-0.013018</td>\n",
       "      <td>-0.241745</td>\n",
       "    </tr>\n",
       "    <tr>\n",
       "      <th>2</th>\n",
       "      <td>Bathrooms</td>\n",
       "      <td>-22198.230600</td>\n",
       "      <td>-29052.095397</td>\n",
       "    </tr>\n",
       "    <tr>\n",
       "      <th>3</th>\n",
       "      <td>Bedrooms</td>\n",
       "      <td>-44685.118212</td>\n",
       "      <td>-50141.688933</td>\n",
       "    </tr>\n",
       "    <tr>\n",
       "      <th>4</th>\n",
       "      <td>BldgGrade</td>\n",
       "      <td>106838.059045</td>\n",
       "      <td>115349.510321</td>\n",
       "    </tr>\n",
       "    <tr>\n",
       "      <th>5</th>\n",
       "      <td>intercept</td>\n",
       "      <td>-531986.376736</td>\n",
       "      <td>-598616.830658</td>\n",
       "    </tr>\n",
       "  </tbody>\n",
       "</table>\n",
       "</div>"
      ],
      "text/plain": [
       "       predictor       house_lm       house_wt\n",
       "0  SqFtTotLiving     228.892468     248.869046\n",
       "1        SqFtLot      -0.013018      -0.241745\n",
       "2      Bathrooms  -22198.230600  -29052.095397\n",
       "3       Bedrooms  -44685.118212  -50141.688933\n",
       "4      BldgGrade  106838.059045  115349.510321\n",
       "5      intercept -531986.376736 -598616.830658"
      ]
     },
     "execution_count": 23,
     "metadata": {},
     "output_type": "execute_result"
    }
   ],
   "source": [
    "predictors = ['SqFtTotLiving', 'SqFtLot', 'Bathrooms', \n",
    "              'Bedrooms', 'BldgGrade']\n",
    "outcome = 'AdjSalePrice'\n",
    "\n",
    "house_wt = LinearRegression()\n",
    "house_wt.fit(house[predictors], house[outcome], sample_weight=house.Weight)\n",
    "pd.DataFrame({\n",
    "    'predictor': predictors,\n",
    "    'house_lm': house_lm.coef_,\n",
    "    'house_wt': house_wt.coef_,\n",
    "}).append({\n",
    "    'predictor': 'intercept', \n",
    "    'house_lm': house_lm.intercept_,\n",
    "    'house_wt': house_wt.intercept_,\n",
    "}, ignore_index=True)"
   ]
  },
  {
   "cell_type": "code",
   "execution_count": 29,
   "metadata": {},
   "outputs": [
    {
     "name": "stdout",
     "output_type": "stream",
     "text": [
      "       abs_residual_lm  abs_residual_wt  Year\n",
      "5300      54837.502895     75835.307404  2012\n",
      "12681     61013.738503     76940.643645  2006\n",
      "13033    240864.496256    224641.549378  2008\n",
      "14012    177490.560894    187149.608272  2011\n",
      "6692     111587.326343    115273.902482  2007\n",
      "\n",
      "\n",
      "Year   Abs_residual_lm    Abs_residual_wt\n",
      "2006 140301.41358480236 146818.89084935014\n",
      "2007 149690.02198768506 155264.09627123203\n",
      "2008 142848.33468595732 147401.07726008113\n",
      "2009 146480.20215901546 151323.71380213578\n",
      "2010 158546.4550668623 161823.9627388648\n",
      "2011 174105.2376369793 177296.55379437498\n",
      "2012 164171.50685921582 166094.64278194302\n",
      "2013 209999.093540516 212302.2104875012\n",
      "2014 193670.5095636271 195773.54060688117\n",
      "2015 172639.22850036158 169717.27428566746\n"
     ]
    },
    {
     "data": {
      "image/png": "[encoded data removed]",
      "text/plain": [
       "<Figure size 720x288 with 2 Axes>"
      ]
     },
     "metadata": {
      "needs_background": "light"
     },
     "output_type": "display_data"
    }
   ],
   "source": [
    "residuals = pd.DataFrame({\n",
    "    'abs_residual_lm': np.abs(house_lm.predict(house[predictors]) - house[outcome]),\n",
    "    'abs_residual_wt': np.abs(house_wt.predict(house[predictors]) - house[outcome]),\n",
    "    'Year': house['Year'],\n",
    "})\n",
    "print(residuals.head())\n",
    "axes = residuals.boxplot(['abs_residual_lm', 'abs_residual_wt'], by='Year', figsize=(10, 4))\n",
    "axes[0].set_ylim(0, 300000)\n",
    "\n",
    "print(\"\\n\\nYear   Abs_residual_lm    Abs_residual_wt\")\n",
    "for year, group in residuals.groupby('Year'):\n",
    "    print(year, np.mean(group['abs_residual_lm']), np.mean(group['abs_residual_wt']))"
   ]
  },
  {
   "cell_type": "markdown",
   "metadata": {},
   "source": [
    "Seems only help 2015 prediction reduce the residuale.If we have a recent holdout sample we can test the weight could help for future prediction or not"
   ]
  },
  {
   "cell_type": "markdown",
   "metadata": {},
   "source": [
    "# 4 - Regularization"
   ]
  },
  {
   "cell_type": "code",
   "execution_count": 30,
   "metadata": {},
   "outputs": [
    {
     "name": "stdout",
     "output_type": "stream",
     "text": [
      "       SqFtTotLiving  SqFtLot  Bathrooms  Bedrooms  BldgGrade   PropertyType  \\\n",
      "5300             820     8424       1.00         3          6  Single Family   \n",
      "12681            960     8100       2.00         3          7  Single Family   \n",
      "13033           2050     4080       1.75         3          8  Single Family   \n",
      "14012           1920    11804       2.75         5          8  Single Family   \n",
      "6692            1210     8742       1.00         3          7  Single Family   \n",
      "\n",
      "       NbrLivingUnits  SqFtFinBasement  YrBuilt  YrRenovated  NewConstruction  \n",
      "5300                1                0     1959            0            False  \n",
      "12681               1                0     1955            0            False  \n",
      "13033               1                0     1991            0            False  \n",
      "14012               1              270     1960            0            False  \n",
      "6692                1                0     1954            0            False  \n",
      "\n",
      " PropertyType List \n",
      "Single Family    16564\n",
      "Townhouse         1377\n",
      "Multiplex          208\n",
      "Name: PropertyType, dtype: int64\n"
     ]
    }
   ],
   "source": [
    "predictors = ['SqFtTotLiving', 'SqFtLot', 'Bathrooms', 'Bedrooms',\n",
    "              'BldgGrade', 'PropertyType', 'NbrLivingUnits',\n",
    "              'SqFtFinBasement', 'YrBuilt', 'YrRenovated', \n",
    "              'NewConstruction']\n",
    "\n",
    "outcome = 'AdjSalePrice'\n",
    "\n",
    "print(house[predictors].head())\n",
    "\n",
    "print(\"\\n PropertyType List \\n{}\".format(house['PropertyType'].value_counts(dropna=False)))\n",
    "\n",
    "X_train = pd.get_dummies(house[predictors], drop_first=True)\n",
    "X_train['NewConstruction'] = [1 if nc else 0 for nc in X_train['NewConstruction']]\n",
    "y_train = house[outcome]\n",
    "\n",
    "X_test = pd.get_dummies(house_test[predictors], drop_first=True)\n",
    "X_test['NewConstruction'] = [1 if nc else 0 for nc in X_test['NewConstruction']]\n",
    "y_test = house_test[outcome]"
   ]
  },
  {
   "cell_type": "markdown",
   "metadata": {},
   "source": [
    "### Regular Multiple Regression"
   ]
  },
  {
   "cell_type": "code",
   "execution_count": 31,
   "metadata": {},
   "outputs": [
    {
     "data": {
      "text/plain": [
       "{'Intercept': 6097167.345,\n",
       " 'SqFtTotLiving': 195.515,\n",
       " 'SqFtLot': 0.081,\n",
       " 'Bathrooms': 41510.984,\n",
       " 'Bedrooms': -50499.827,\n",
       " 'BldgGrade': 138849.457,\n",
       " 'NbrLivingUnits': 24622.864,\n",
       " 'SqFtFinBasement': 9.717,\n",
       " 'YrBuilt': -3555.798,\n",
       " 'YrRenovated': 0.796,\n",
       " 'NewConstruction': -2278.04,\n",
       " 'PropertyType_Single Family': 51017.157}"
      ]
     },
     "execution_count": 31,
     "metadata": {},
     "output_type": "execute_result"
    }
   ],
   "source": [
    "house_lm = LinearRegression()\n",
    "house_lm.fit(X_train, y_train)\n",
    "\n",
    "mlr_coefs = dict(\n",
    "    zip(['Intercept'] + X_train.columns.tolist()[:-1], \n",
    "        np.round(np.concatenate((house_lm.intercept_, house_lm.coef_), \n",
    "                                axis=None), 3))\n",
    ")\n",
    "\n",
    "mlr_coefs"
   ]
  },
  {
   "cell_type": "code",
   "execution_count": 32,
   "metadata": {},
   "outputs": [
    {
     "name": "stdout",
     "output_type": "stream",
     "text": [
      "regular mlr MSE: 244299\n",
      "r2_test: 0.5845\n"
     ]
    }
   ],
   "source": [
    "fitted_test = house_lm.predict(X_test)\n",
    "MSE_test = np.sqrt(mean_squared_error(y_test, fitted_test))\n",
    "r2 = r2_score(y_test, fitted_test)\n",
    "print(f'regular mlr MSE: {MSE_test:.0f}')\n",
    "print(f'r2_test: {r2:.4f}')"
   ]
  },
  {
   "cell_type": "markdown",
   "metadata": {},
   "source": [
    "### L2 - Ridge regression (Parameter shrinkage)"
   ]
  },
  {
   "cell_type": "code",
   "execution_count": 33,
   "metadata": {},
   "outputs": [
    {
     "name": "stdout",
     "output_type": "stream",
     "text": [
      "Ridge Regression MAE: 135479.682\n",
      "Ridge Regression coefficients:\n"
     ]
    },
    {
     "data": {
      "text/plain": [
       "{'Intercept': 5983425.905,\n",
       " 'SqFtTotLiving': 191.452,\n",
       " 'SqFtLot': 0.091,\n",
       " 'Bathrooms': 42746.236,\n",
       " 'Bedrooms': -49179.085,\n",
       " 'BldgGrade': 138505.546,\n",
       " 'NbrLivingUnits': 16505.754,\n",
       " 'SqFtFinBasement': 12.46,\n",
       " 'YrBuilt': -3484.417,\n",
       " 'YrRenovated': 1.927,\n",
       " 'NewConstruction': -2369.944,\n",
       " 'PropertyType_Single Family': 35398.442}"
      ]
     },
     "execution_count": 33,
     "metadata": {},
     "output_type": "execute_result"
    }
   ],
   "source": [
    "ridge_cv = RidgeCV(normalize=True, alphas=np.logspace(-10, 1, 400))\n",
    "ridge_model = ridge_cv.fit(X_train, y_train)\n",
    "ridge_prediction = ridge_model.predict(X_test)\n",
    "ridge_mae = np.mean(np.abs(y_test - ridge_prediction))\n",
    "ridge_coefs = dict(\n",
    "    zip(['Intercept'] + X_train.columns.tolist()[:-1], \n",
    "        np.round(np.concatenate((ridge_model.intercept_, ridge_model.coef_), \n",
    "                                axis=None), 3))\n",
    ")\n",
    "\n",
    "print('Ridge Regression MAE: {}'.format(np.round(ridge_mae, 3)))\n",
    "print('Ridge Regression coefficients:')\n",
    "ridge_coefs"
   ]
  },
  {
   "cell_type": "markdown",
   "metadata": {},
   "source": [
    "### L1 - Lasso regression (Parameter sparsity)"
   ]
  },
  {
   "cell_type": "code",
   "execution_count": 34,
   "metadata": {},
   "outputs": [
    {
     "name": "stdout",
     "output_type": "stream",
     "text": [
      "LASSO MAE: 135522.604\n",
      "LASSO coefficients:\n"
     ]
    },
    {
     "data": {
      "text/plain": [
       "{'Intercept': 6055517.602,\n",
       " 'SqFtTotLiving': 194.216,\n",
       " 'SqFtLot': 0.064,\n",
       " 'Bathrooms': 39776.616,\n",
       " 'Bedrooms': -48619.885,\n",
       " 'BldgGrade': 138660.216,\n",
       " 'NbrLivingUnits': -0.0,\n",
       " 'SqFtFinBasement': 9.912,\n",
       " 'YrBuilt': -3495.387,\n",
       " 'YrRenovated': 0.533,\n",
       " 'NewConstruction': -0.0,\n",
       " 'PropertyType_Single Family': 0.0}"
      ]
     },
     "execution_count": 34,
     "metadata": {},
     "output_type": "execute_result"
    }
   ],
   "source": [
    "lasso_cv = LassoCV(normalize=True, alphas=np.logspace(-10, 1, 400))\n",
    "lasso_model = lasso_cv.fit(X_train, y_train)\n",
    "lasso_prediction = lasso_model.predict(X_test)\n",
    "lasso_mae = np.mean(np.abs(y_test - lasso_prediction))\n",
    "lasso_coefs = dict(\n",
    "    zip(['Intercept'] + X_train.columns.tolist()[:-1], \n",
    "        np.round(np.concatenate((lasso_model.intercept_, lasso_model.coef_), axis=None), 3))\n",
    ")\n",
    "\n",
    "print('LASSO MAE: {}'.format(np.round(lasso_mae, 3)))\n",
    "print('LASSO coefficients:')\n",
    "lasso_coefs"
   ]
  },
  {
   "cell_type": "markdown",
   "metadata": {},
   "source": [
    "# Home Work"
   ]
  },
  {
   "cell_type": "markdown",
   "metadata": {},
   "source": [
    "1. Compare the three model fits and draw conclusion \n",
    "from the comparision of the three model fits regarding there coefficent difference"
   ]
  },
  {
   "cell_type": "markdown",
   "metadata": {},
   "source": [
    "+ for the multiple linear regression:\n",
    "    we look at the coefficient differences, they are super huge MSE\n",
    "+ for the weighted regression:\n",
    "    it will give more weight to reliable data. In the situation of the house sale price, the recent sale price is more relevant for future prediction, so we will give them more weights. For some old sale data, we will give them less weights\n",
    "+ for L2 regularatioin:\n",
    "    The MSE is decreasing a lot because L2 changed the ratio\n",
    "+ for L1 regularation:\n",
    "    the MSE is decreasing a lot, and we can see that some parameters have decrease to 0\n",
    "+ for stepwise regression:\n"
   ]
  },
  {
   "cell_type": "markdown",
   "metadata": {},
   "source": [
    "2. Show the three model performance on both train and test"
   ]
  },
  {
   "cell_type": "code",
   "execution_count": null,
   "metadata": {},
   "outputs": [],
   "source": []
  }
 ],
 "metadata": {
  "kernelspec": {
   "display_name": "Python 3 (ipykernel)",
   "language": "python",
   "name": "python3"
  },
  "language_info": {
   "codemirror_mode": {
    "name": "ipython",
    "version": 3
   },
   "file_extension": ".py",
   "mimetype": "text/x-python",
   "name": "python",
   "nbconvert_exporter": "python",
   "pygments_lexer": "ipython3",
   "version": "3.9.7"
  }
 },
 "nbformat": 4,
 "nbformat_minor": 2
}
