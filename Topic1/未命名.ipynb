{
 "cells": [
  {
   "cell_type": "code",
   "execution_count": 2,
   "id": "25595951-7b47-4f4e-97d3-5ca53c3eb5ff",
   "metadata": {},
   "outputs": [],
   "source": [
    "import pandas as pd"
   ]
  },
  {
   "cell_type": "code",
   "execution_count": 7,
   "id": "7ff15238-b398-415e-a4e1-d6e9e04e760e",
   "metadata": {},
   "outputs": [
    {
     "data": {
      "text/html": [
       "<div>\n",
       "<style scoped>\n",
       "    .dataframe tbody tr th:only-of-type {\n",
       "        vertical-align: middle;\n",
       "    }\n",
       "\n",
       "    .dataframe tbody tr th {\n",
       "        vertical-align: top;\n",
       "    }\n",
       "\n",
       "    .dataframe thead th {\n",
       "        text-align: right;\n",
       "    }\n",
       "</style>\n",
       "<table border=\"1\" class=\"dataframe\">\n",
       "  <thead>\n",
       "    <tr style=\"text-align: right;\">\n",
       "      <th></th>\n",
       "      <th>State</th>\n",
       "      <th>Population</th>\n",
       "      <th>Murder.Rate</th>\n",
       "      <th>Abbreviation</th>\n",
       "    </tr>\n",
       "  </thead>\n",
       "  <tbody>\n",
       "    <tr>\n",
       "      <th>0</th>\n",
       "      <td>Alabama</td>\n",
       "      <td>4779736</td>\n",
       "      <td>5.7</td>\n",
       "      <td>AL</td>\n",
       "    </tr>\n",
       "    <tr>\n",
       "      <th>1</th>\n",
       "      <td>Alaska</td>\n",
       "      <td>710231</td>\n",
       "      <td>5.6</td>\n",
       "      <td>AK</td>\n",
       "    </tr>\n",
       "    <tr>\n",
       "      <th>2</th>\n",
       "      <td>Arizona</td>\n",
       "      <td>6392017</td>\n",
       "      <td>4.7</td>\n",
       "      <td>AZ</td>\n",
       "    </tr>\n",
       "    <tr>\n",
       "      <th>3</th>\n",
       "      <td>Arkansas</td>\n",
       "      <td>2915918</td>\n",
       "      <td>5.6</td>\n",
       "      <td>AR</td>\n",
       "    </tr>\n",
       "    <tr>\n",
       "      <th>4</th>\n",
       "      <td>California</td>\n",
       "      <td>37253956</td>\n",
       "      <td>4.4</td>\n",
       "      <td>CA</td>\n",
       "    </tr>\n",
       "  </tbody>\n",
       "</table>\n",
       "</div>"
      ],
      "text/plain": [
       "        State  Population  Murder.Rate Abbreviation\n",
       "0     Alabama     4779736          5.7           AL\n",
       "1      Alaska      710231          5.6           AK\n",
       "2     Arizona     6392017          4.7           AZ\n",
       "3    Arkansas     2915918          5.6           AR\n",
       "4  California    37253956          4.4           CA"
      ]
     },
     "execution_count": 7,
     "metadata": {},
     "output_type": "execute_result"
    }
   ],
   "source": [
    "df = pd.read_csv('state.csv')\n",
    "df.head()"
   ]
  },
  {
   "cell_type": "markdown",
   "id": "738bc730-055c-4d8d-88e6-e3736de168b1",
   "metadata": {},
   "source": [
    "#### 1. Show all data types, missing rates"
   ]
  },
  {
   "cell_type": "code",
   "execution_count": 37,
   "id": "cd856a7f-a816-4699-87ff-760ad01b0bb2",
   "metadata": {},
   "outputs": [
    {
     "name": "stdout",
     "output_type": "stream",
     "text": [
      "<class 'pandas.core.frame.DataFrame'>\n",
      "RangeIndex: 50 entries, 0 to 49\n",
      "Data columns (total 4 columns):\n",
      " #   Column        Non-Null Count  Dtype  \n",
      "---  ------        --------------  -----  \n",
      " 0   State         50 non-null     object \n",
      " 1   Population    50 non-null     int64  \n",
      " 2   Murder.Rate   50 non-null     float64\n",
      " 3   Abbreviation  50 non-null     object \n",
      "dtypes: float64(1), int64(1), object(2)\n",
      "memory usage: 1.7+ KB\n"
     ]
    }
   ],
   "source": [
    "df.info()"
   ]
  },
  {
   "cell_type": "code",
   "execution_count": 38,
   "id": "8d4f5462-1e12-4b52-8a77-d96c5fff72a6",
   "metadata": {},
   "outputs": [
    {
     "data": {
      "text/plain": [
       "State            object\n",
       "Population        int64\n",
       "Murder.Rate     float64\n",
       "Abbreviation     object\n",
       "dtype: object"
      ]
     },
     "execution_count": 38,
     "metadata": {},
     "output_type": "execute_result"
    }
   ],
   "source": [
    "df.dtypes"
   ]
  },
  {
   "cell_type": "code",
   "execution_count": 25,
   "id": "8f6db7ed-9e68-42c9-b6ae-b6a87dc8fc58",
   "metadata": {},
   "outputs": [
    {
     "data": {
      "text/plain": [
       "<bound method NDFrame.describe of              State  Population  Murder.Rate Abbreviation\n",
       "0          Alabama     4779736          5.7           AL\n",
       "1           Alaska      710231          5.6           AK\n",
       "2          Arizona     6392017          4.7           AZ\n",
       "3         Arkansas     2915918          5.6           AR\n",
       "4       California    37253956          4.4           CA\n",
       "5         Colorado     5029196          2.8           CO\n",
       "6      Connecticut     3574097          2.4           CT\n",
       "7         Delaware      897934          5.8           DE\n",
       "8          Florida    18801310          5.8           FL\n",
       "9          Georgia     9687653          5.7           GA\n",
       "10          Hawaii     1360301          1.8           HI\n",
       "11           Idaho     1567582          2.0           ID\n",
       "12        Illinois    12830632          5.3           IL\n",
       "13         Indiana     6483802          5.0           IN\n",
       "14            Iowa     3046355          1.9           IA\n",
       "15          Kansas     2853118          3.1           KS\n",
       "16        Kentucky     4339367          3.6           KY\n",
       "17       Louisiana     4533372         10.3           LA\n",
       "18           Maine     1328361          1.6           ME\n",
       "19        Maryland     5773552          6.1           MD\n",
       "20   Massachusetts     6547629          2.0           MA\n",
       "21        Michigan     9883640          5.4           MI\n",
       "22       Minnesota     5303925          1.6           MN\n",
       "23     Mississippi     2967297          8.6           MS\n",
       "24        Missouri     5988927          6.6           MO\n",
       "25         Montana      989415          3.6           MT\n",
       "26        Nebraska     1826341          2.9           NE\n",
       "27          Nevada     2700551          6.0           NV\n",
       "28   New Hampshire     1316470          0.9           NH\n",
       "29      New Jersey     8791894          3.9           NJ\n",
       "30      New Mexico     2059179          4.8           NM\n",
       "31        New York    19378102          3.1           NY\n",
       "32  North Carolina     9535483          5.1           NC\n",
       "33    North Dakota      672591          3.0           ND\n",
       "34            Ohio    11536504          4.0           OH\n",
       "35        Oklahoma     3751351          4.5           OK\n",
       "36          Oregon     3831074          2.0           OR\n",
       "37    Pennsylvania    12702379          4.8           PA\n",
       "38    Rhode Island     1052567          2.4           RI\n",
       "39  South Carolina     4625364          6.4           SC\n",
       "40    South Dakota      814180          2.3           SD\n",
       "41       Tennessee     6346105          5.7           TN\n",
       "42           Texas    25145561          4.4           TX\n",
       "43            Utah     2763885          2.3           UT\n",
       "44         Vermont      625741          1.6           VT\n",
       "45        Virginia     8001024          4.1           VA\n",
       "46      Washington     6724540          2.5           WA\n",
       "47   West Virginia     1852994          4.0           WV\n",
       "48       Wisconsin     5686986          2.9           WI\n",
       "49         Wyoming      563626          2.7           WY>"
      ]
     },
     "execution_count": 25,
     "metadata": {},
     "output_type": "execute_result"
    }
   ],
   "source": [
    "df.describe"
   ]
  },
  {
   "cell_type": "code",
   "execution_count": 41,
   "id": "0da846e9-0b76-4a33-b62c-0a19e9e0a42d",
   "metadata": {},
   "outputs": [
    {
     "data": {
      "text/plain": [
       "State           0.0\n",
       "Population      0.0\n",
       "Murder.Rate     0.0\n",
       "Abbreviation    0.0\n",
       "dtype: float64"
      ]
     },
     "execution_count": 41,
     "metadata": {},
     "output_type": "execute_result"
    }
   ],
   "source": [
    "df.isnull().sum() / len(df)"
   ]
  },
  {
   "cell_type": "markdown",
   "id": "4e5ab963-bd05-4446-b702-070904c80979",
   "metadata": {},
   "source": [
    "#### 2. Numerical variables provide mean, SD, five number summary, histogram"
   ]
  },
  {
   "cell_type": "code",
   "execution_count": 46,
   "id": "c64ca3c0-94dc-4729-8831-22da13ea20fd",
   "metadata": {},
   "outputs": [
    {
     "data": {
      "text/html": [
       "<div>\n",
       "<style scoped>\n",
       "    .dataframe tbody tr th:only-of-type {\n",
       "        vertical-align: middle;\n",
       "    }\n",
       "\n",
       "    .dataframe tbody tr th {\n",
       "        vertical-align: top;\n",
       "    }\n",
       "\n",
       "    .dataframe thead th {\n",
       "        text-align: right;\n",
       "    }\n",
       "</style>\n",
       "<table border=\"1\" class=\"dataframe\">\n",
       "  <thead>\n",
       "    <tr style=\"text-align: right;\">\n",
       "      <th></th>\n",
       "      <th>Population</th>\n",
       "      <th>Murder.Rate</th>\n",
       "    </tr>\n",
       "  </thead>\n",
       "  <tbody>\n",
       "    <tr>\n",
       "      <th>count</th>\n",
       "      <td>5.000000e+01</td>\n",
       "      <td>50.000000</td>\n",
       "    </tr>\n",
       "    <tr>\n",
       "      <th>mean</th>\n",
       "      <td>6.162876e+06</td>\n",
       "      <td>4.066000</td>\n",
       "    </tr>\n",
       "    <tr>\n",
       "      <th>std</th>\n",
       "      <td>6.848235e+06</td>\n",
       "      <td>1.915736</td>\n",
       "    </tr>\n",
       "    <tr>\n",
       "      <th>min</th>\n",
       "      <td>5.636260e+05</td>\n",
       "      <td>0.900000</td>\n",
       "    </tr>\n",
       "    <tr>\n",
       "      <th>25%</th>\n",
       "      <td>1.833004e+06</td>\n",
       "      <td>2.425000</td>\n",
       "    </tr>\n",
       "    <tr>\n",
       "      <th>50%</th>\n",
       "      <td>4.436370e+06</td>\n",
       "      <td>4.000000</td>\n",
       "    </tr>\n",
       "    <tr>\n",
       "      <th>75%</th>\n",
       "      <td>6.680312e+06</td>\n",
       "      <td>5.550000</td>\n",
       "    </tr>\n",
       "    <tr>\n",
       "      <th>max</th>\n",
       "      <td>3.725396e+07</td>\n",
       "      <td>10.300000</td>\n",
       "    </tr>\n",
       "  </tbody>\n",
       "</table>\n",
       "</div>"
      ],
      "text/plain": [
       "         Population  Murder.Rate\n",
       "count  5.000000e+01    50.000000\n",
       "mean   6.162876e+06     4.066000\n",
       "std    6.848235e+06     1.915736\n",
       "min    5.636260e+05     0.900000\n",
       "25%    1.833004e+06     2.425000\n",
       "50%    4.436370e+06     4.000000\n",
       "75%    6.680312e+06     5.550000\n",
       "max    3.725396e+07    10.300000"
      ]
     },
     "execution_count": 46,
     "metadata": {},
     "output_type": "execute_result"
    }
   ],
   "source": [
    "df.describe()"
   ]
  },
  {
   "cell_type": "markdown",
   "id": "f8433397-ebce-497b-9ca4-f17e33e547ab",
   "metadata": {},
   "source": [
    "#### 3. Categorical variables provide frequency table and bar chart"
   ]
  },
  {
   "cell_type": "code",
   "execution_count": 55,
   "id": "e1ba86c8-3a3a-4e8f-8f54-17aecea4c08f",
   "metadata": {},
   "outputs": [
    {
     "data": {
      "text/plain": [
       "State           Population  Murder.Rate  Abbreviation\n",
       "Alabama         4779736     5.7          AL              1\n",
       "Pennsylvania    12702379    4.8          PA              1\n",
       "Nevada          2700551     6.0          NV              1\n",
       "New Hampshire   1316470     0.9          NH              1\n",
       "New Jersey      8791894     3.9          NJ              1\n",
       "New Mexico      2059179     4.8          NM              1\n",
       "New York        19378102    3.1          NY              1\n",
       "North Carolina  9535483     5.1          NC              1\n",
       "North Dakota    672591      3.0          ND              1\n",
       "Ohio            11536504    4.0          OH              1\n",
       "Oklahoma        3751351     4.5          OK              1\n",
       "Oregon          3831074     2.0          OR              1\n",
       "Rhode Island    1052567     2.4          RI              1\n",
       "Alaska          710231      5.6          AK              1\n",
       "South Carolina  4625364     6.4          SC              1\n",
       "South Dakota    814180      2.3          SD              1\n",
       "Tennessee       6346105     5.7          TN              1\n",
       "Texas           25145561    4.4          TX              1\n",
       "Utah            2763885     2.3          UT              1\n",
       "Vermont         625741      1.6          VT              1\n",
       "Virginia        8001024     4.1          VA              1\n",
       "Washington      6724540     2.5          WA              1\n",
       "West Virginia   1852994     4.0          WV              1\n",
       "Wisconsin       5686986     2.9          WI              1\n",
       "Nebraska        1826341     2.9          NE              1\n",
       "Montana         989415      3.6          MT              1\n",
       "Missouri        5988927     6.6          MO              1\n",
       "Mississippi     2967297     8.6          MS              1\n",
       "Arizona         6392017     4.7          AZ              1\n",
       "Arkansas        2915918     5.6          AR              1\n",
       "California      37253956    4.4          CA              1\n",
       "Colorado        5029196     2.8          CO              1\n",
       "Connecticut     3574097     2.4          CT              1\n",
       "Delaware        897934      5.8          DE              1\n",
       "Florida         18801310    5.8          FL              1\n",
       "Georgia         9687653     5.7          GA              1\n",
       "Hawaii          1360301     1.8          HI              1\n",
       "Idaho           1567582     2.0          ID              1\n",
       "Illinois        12830632    5.3          IL              1\n",
       "Indiana         6483802     5.0          IN              1\n",
       "Iowa            3046355     1.9          IA              1\n",
       "Kansas          2853118     3.1          KS              1\n",
       "Kentucky        4339367     3.6          KY              1\n",
       "Louisiana       4533372     10.3         LA              1\n",
       "Maine           1328361     1.6          ME              1\n",
       "Maryland        5773552     6.1          MD              1\n",
       "Massachusetts   6547629     2.0          MA              1\n",
       "Michigan        9883640     5.4          MI              1\n",
       "Minnesota       5303925     1.6          MN              1\n",
       "Wyoming         563626      2.7          WY              1\n",
       "dtype: int64"
      ]
     },
     "execution_count": 55,
     "metadata": {},
     "output_type": "execute_result"
    }
   ],
   "source": [
    "df.value_counts()"
   ]
  },
  {
   "cell_type": "code",
   "execution_count": null,
   "id": "3a91d987-1c8c-41ff-9eba-6f8334043a9a",
   "metadata": {},
   "outputs": [],
   "source": []
  },
  {
   "cell_type": "markdown",
   "id": "29ef0f0a-7c7e-4ff8-b392-a4280bd617b6",
   "metadata": {},
   "source": [
    "#### 4. Perform at least 2 pairs of variable for 2 types of bivariate charts"
   ]
  },
  {
   "cell_type": "code",
   "execution_count": null,
   "id": "b51d8f6a-f212-41b1-bea9-630b0671dc40",
   "metadata": {},
   "outputs": [],
   "source": []
  },
  {
   "cell_type": "markdown",
   "id": "fd1b55d1-e7dd-4044-b3a3-128f4b8b7882",
   "metadata": {},
   "source": [
    "#### 5. Provide a summary to describe what you know about your data in this practice."
   ]
  },
  {
   "cell_type": "code",
   "execution_count": null,
   "id": "b511aa9f-0f5a-4418-81e1-ca439ca70d3b",
   "metadata": {},
   "outputs": [],
   "source": []
  }
 ],
 "metadata": {
  "kernelspec": {
   "display_name": "Python 3 (ipykernel)",
   "language": "python",
   "name": "python3"
  },
  "language_info": {
   "codemirror_mode": {
    "name": "ipython",
    "version": 3
   },
   "file_extension": ".py",
   "mimetype": "text/x-python",
   "name": "python",
   "nbconvert_exporter": "python",
   "pygments_lexer": "ipython3",
   "version": "3.9.7"
  }
 },
 "nbformat": 4,
 "nbformat_minor": 5
}
